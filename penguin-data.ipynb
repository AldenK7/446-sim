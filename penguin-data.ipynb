{
 "cells": [
  {
   "cell_type": "code",
   "execution_count": 2,
   "metadata": {},
   "outputs": [],
   "source": [
    "import pandas as pd\n",
    "import numpy as np\n",
    "from geopy import distance\n",
    "from matplotlib import pyplot as plt \n",
    "\n",
    "pd.options.mode.chained_assignment = None"
   ]
  },
  {
   "cell_type": "code",
   "execution_count": 3,
   "metadata": {},
   "outputs": [],
   "source": [
    "# Read in CSV and do some preprocessing\n",
    "df = pd.read_csv(\"penguin.csv\")\n",
    "df.dropna(inplace=True)\n",
    "df.drop(columns=[\n",
    "    \"event-id\", \n",
    "    \"visible\", # boolean indicating visibility, ignore False\n",
    "    \"migration-stage\", \n",
    "    \"tag-tech-spec\", \n",
    "    \"sensor-type\",\n",
    "    \"individual-local-identifier\", # individual id \n",
    "    \"study-name\",\n",
    "    \"individual-taxon-canonical-name\" # species name \n",
    "    ], inplace=True)\n",
    "\n",
    "df[\"timestamp\"] = pd.to_datetime(df[\"timestamp\"]) \n",
    "# used to simulate arrival times of penguins\n",
    "\n",
    "# Seperate data by season\n",
    "seasons = df[\"comments\"].unique().tolist()\n",
    "\n",
    "# Define nest location and boundary\n",
    "nest_location = (-66.663596, 140.004067) \n",
    "radius = 1.0 # 1km away from nest "
   ]
  },
  {
   "cell_type": "code",
   "execution_count": 36,
   "metadata": {},
   "outputs": [],
   "source": [
    "\"\"\" Collect departure time for each season\n",
    "    Use it as real-world event timestamps to:\n",
    "    1. Derive empirical arrival rate funtion λ(t) for NSPP\n",
    "    2. Ensure varied time rate model, realistic simulation \n",
    "\"\"\"\n",
    "departures = {} # Departure timestamps per \n",
    "departures_by_day = {}\n",
    "departure_no_year = []\n",
    "for season in seasons:\n",
    "    season_df = df[df[\"comments\"] == season] # list of all individuals in a particular season\n",
    "    penguin_ids = season_df[\"tag-local-identifier\"].unique().tolist() # extract unique ids of individuals from season_df list\n",
    "\n",
    "    years = season.split(\"-\")\n",
    "    #season_departures = []\n",
    "\n",
    "    # Look through all penguins \n",
    "    for id in penguin_ids:\n",
    "        penguin_df = season_df[season_df[\"tag-local-identifier\"] == id] # extract all rows of a particular individual id\n",
    "        penguin_df.sort_values(by=\"timestamp\", inplace=True)\n",
    "\n",
    "        # coordinate tuple: current penguin first recorded location\n",
    "        coord = (penguin_df[\"location-lat\"].iloc[0], penguin_df[\"location-long\"].iloc[0])\n",
    "        # get distance between nest and penguin\n",
    "        prev_dist = distance.distance(nest_location, coord).km\n",
    "\n",
    "        # Look through all movement lines of an individual\n",
    "        for i in range(1, penguin_df.shape[0]):\n",
    "            # iterate over all rows of the current penguin for location\n",
    "            coord = (penguin_df[\"location-lat\"].iloc[i], penguin_df[\"location-long\"].iloc[i])\n",
    "            cur_dist = distance.distance(nest_location, coord).km\n",
    "\n",
    "            # If moved out of radius, add timestamp\n",
    "            if prev_dist < radius and cur_dist >= radius:\n",
    "                # capture time of the departure at current row i\n",
    "                time = penguin_df[\"timestamp\"].iloc[i]\n",
    "                # parse year1 - year2\n",
    "                # set all year1 to 2000 and year2 to 2001\n",
    "                # combine into a big list of only season 2000-2001\n",
    "                if time.year == years[0]:\n",
    "                    time.replace(year=2000)\n",
    "                else:\n",
    "                    time.replace(year=2001)\n",
    "                departure_no_year.append(time)\n",
    "                # sort departure_no_year \n",
    "                # then calculate interarrival time (between every timestamp)\n",
    "                # determine the number of bins and size of bin [)\n",
    "                # then make histogram with y-axis is the number of interarrivals in one bin \n",
    "\n",
    "                \n",
    "                #season_departures.append(time)\n",
    "                \n",
    "                # group (departure) time by day of the year\n",
    "                # the day th in the year\n",
    "                key = time.dayofyear\n",
    "                # If the departure occurs in the afternoon (after 12:00 PM)\n",
    "                # add 0.5 to key to distinguish between morning and afternoon departures.\n",
    "                # if key = Jan\n",
    "                if time.hour >= 12: key += 0.5 \n",
    "\n",
    "                if key not in departures_by_day:\n",
    "                    departures_by_day[key] = []\n",
    "\n",
    "                departures_by_day[key].append(time)\n",
    "\n",
    "            prev_dist = cur_dist\n",
    "        \n",
    "    season_departures = np.array(season_departures)\n",
    "    season_departures = np.sort(season_departures)\n",
    "\n",
    "    departures[season] = season_departures\n",
    "\n",
    "\n",
    "# Penguin Behaviour Model: penguin movement patterns and interactions\n",
    "# TODO: compute global arrival rate λ(t) from departures[season]\n",
    "    # penguin behaviours may change for different season => different rate λ(t)\n",
    "# TODO: arrival rate function for intervals \n",
    "# (eg. 12 hours intervals (0-12, 12-24))\n",
    "    # TODO: calculate average arrival rate for each interval\n",
    "# simulate penguin arrivals using the function\n",
    "\n",
    "# Environment Model: resource points and properties (richness and location \n",
    "# and desirability score based on distanc from penguin and richness)\n",
    "# \n"
   ]
  },
  {
   "cell_type": "code",
   "execution_count": 51,
   "metadata": {},
   "outputs": [
    {
     "data": {
      "image/png": "[encoded data removed]",
      "text/plain": [
       "<Figure size 432x288 with 1 Axes>"
      ]
     },
     "metadata": {
      "needs_background": "light"
     },
     "output_type": "display_data"
    }
   ],
   "source": [
    "# Histogram of departures per day \n",
    "# Frequency: the number of penguins departing in a day\n",
    "days = list(departures_by_day.keys())\n",
    "counts = [0] * len(days)\n",
    "for i in range(len(days)):\n",
    "    counts[i] = len(departures_by_day[days[i]])\n",
    "\n",
    "plt.hist(counts, bins=len(set(counts))//1) \n",
    "plt.title(\"histogram\") \n",
    "plt.show()"
   ]
  },
  {
   "cell_type": "code",
   "execution_count": null,
   "metadata": {},
   "outputs": [],
   "source": []
  }
 ],
 "metadata": {
  "kernelspec": {
   "display_name": "Python 3",
   "language": "python",
   "name": "python3"
  },
  "language_info": {
   "codemirror_mode": {
    "name": "ipython",
    "version": 3
   },
   "file_extension": ".py",
   "mimetype": "text/x-python",
   "name": "python",
   "nbconvert_exporter": "python",
   "pygments_lexer": "ipython3",
   "version": "3.10.0"
  }
 },
 "nbformat": 4,
 "nbformat_minor": 2
}
