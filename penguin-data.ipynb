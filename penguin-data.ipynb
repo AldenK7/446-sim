{
 "cells": [
  {
   "cell_type": "code",
   "execution_count": 1,
   "metadata": {},
   "outputs": [],
   "source": [
    "import pandas as pd\n",
    "import numpy as np\n",
    "from geopy import distance\n",
    "from matplotlib import pyplot as plt \n",
    "\n",
    "pd.options.mode.chained_assignment = None"
   ]
  },
  {
   "cell_type": "code",
   "execution_count": 2,
   "metadata": {},
   "outputs": [],
   "source": [
    "# Read in CSV and do some preprocessing\n",
    "df = pd.read_csv(\"penguin.csv\")\n",
    "df.dropna(inplace=True)\n",
    "df.drop(columns=[\n",
    "    \"event-id\", \n",
    "    \"visible\", # boolean indicating visibility, ignore False\n",
    "    \"migration-stage\", \n",
    "    \"tag-tech-spec\", \n",
    "    \"sensor-type\",\n",
    "    \"individual-local-identifier\", # individual id \n",
    "    \"study-name\",\n",
    "    \"individual-taxon-canonical-name\" # species name \n",
    "    ], inplace=True)\n",
    "\n",
    "df[\"timestamp\"] = pd.to_datetime(df[\"timestamp\"]) \n",
    "# used to simulate arrival times of penguins\n",
    "\n",
    "# Seperate data by season\n",
    "seasons = df[\"comments\"].unique().tolist()\n",
    "\n",
    "# Define nest location and boundary\n",
    "nest_location = (-66.663596, 140.004067) \n",
    "radius = 1.0 # 1km away from nest "
   ]
  },
  {
   "cell_type": "code",
   "execution_count": 3,
   "metadata": {},
   "outputs": [],
   "source": [
    "\"\"\" Collect departure time for each season\n",
    "    Use it as real-world event timestamps to:\n",
    "    1. Derive empirical arrival rate funtion λ(t) for NSPP\n",
    "    2. Ensure varied time rate model, realistic simulation \n",
    "\"\"\"\n",
    "departure_time = []\n",
    "for season in seasons:\n",
    "    season_df = df[df[\"comments\"] == season] # list of all individuals in a particular season\n",
    "    penguin_ids = season_df[\"tag-local-identifier\"].unique().tolist() # extract unique ids of individuals from season_df list\n",
    "\n",
    "    years = season.split(\"-\")\n",
    "    years[0] = int(years[0])\n",
    "    years[1] = int(years[1])\n",
    "\n",
    "    # Look through all penguins \n",
    "    for id in penguin_ids:\n",
    "        penguin_df = season_df[season_df[\"tag-local-identifier\"] == id] # extract all rows of a particular individual id\n",
    "        penguin_df.sort_values(by=\"timestamp\", inplace=True)\n",
    "\n",
    "        # coordinate tuple: current penguin first recorded location\n",
    "        coord = (penguin_df[\"location-lat\"].iloc[0], penguin_df[\"location-long\"].iloc[0])\n",
    "        # get distance between nest and penguin \n",
    "        for i in range(1, penguin_df.shape[0]):\n",
    "            # iterate over all rows of the current penguin for location\n",
    "            coord = (penguin_df[\"location-lat\"].iloc[i], penguin_df[\"location-long\"].iloc[i])\n",
    "            cur_dist = distance.distance(nest_location, coord).km\n",
    "\n",
    "            # If moved out of radius, add timestamp\n",
    "            if i > 1 and prev_dist < radius and cur_dist >= radius:\n",
    "                # capture time of the departure at current row i\n",
    "                time = penguin_df[\"timestamp\"].iloc[i]\n",
    "                # parse year1 - year2 \n",
    "                # set all year1 to 2000 and year2 to 2001\n",
    "                # combine into a big list of only season 2000-2001\n",
    "                if time.year == years[0]:\n",
    "                    time.replace(year=2000)\n",
    "                else:\n",
    "                    time.replace(year=2001)\n",
    "                \n",
    "                departure_time.append(time)\n",
    "                \n",
    "                # then calculate interarrival time (between every timestamp)\n",
    "                # determine the number of bins and size of bin [)\n",
    "                # then make histogram with y-axis is the number of interarrivals in one bin \n",
    "               \n",
    "            prev_dist = cur_dist\n",
    "        \n",
    "    \n",
    "# sort departure times \n",
    "departure_time = np.array(departure_time)\n",
    "departure_time = np.sort(departure_time)\n"
   ]
  },
  {
   "cell_type": "code",
   "execution_count": 139,
   "metadata": {},
   "outputs": [
    {
     "data": {
      "image/png": "[encoded data removed]",
      "text/plain": [
       "<Figure size 432x288 with 1 Axes>"
      ]
     },
     "metadata": {
      "needs_background": "light"
     },
     "output_type": "display_data"
    }
   ],
   "source": [
    "timestamps = np.zeros(departure_time.shape[0])\n",
    "for i in range(departure_time.shape[0]):\n",
    "    timestamps[i] = departure_time[i].timestamp()\n",
    "\n",
    "inter_arrivals = np.diff(timestamps) / (60 * 60) # seconds to hours\n",
    "\n",
    "# Reject inter arrival times more than 12 hours\n",
    "def reject_outliers(data, m=2):\n",
    "    data = data[data < 12]\n",
    "    return data\n",
    "    # return data[abs(data - np.mean(data)) < m * np.std(data)]\n",
    "\n",
    "inter_arrivals_cleaned = reject_outliers(inter_arrivals)\n",
    "\n",
    "num_bins = int(np.ceil(np.sqrt(inter_arrivals_cleaned.shape[0])))\n",
    "bin_size = (max(inter_arrivals_cleaned) - min(inter_arrivals_cleaned)) / num_bins\n",
    "\n",
    "bins = np.zeros(num_bins + 1)\n",
    "bins[0] = min(inter_arrivals_cleaned)\n",
    "for i in range(1, num_bins + 1):\n",
    "    bins[i] = bins[i-1] + bin_size\n",
    "\n",
    "hist, rbins = np.histogram(inter_arrivals_cleaned, bins)\n",
    "\n",
    "plt.hist(inter_arrivals_cleaned, bins=bins) \n",
    "plt.title(\"histogram\") \n",
    "plt.show()"
   ]
  },
  {
   "cell_type": "code",
   "execution_count": 140,
   "metadata": {},
   "outputs": [
    {
     "name": "stdout",
     "output_type": "stream",
     "text": [
      "2.421603410341034\n",
      "[98 67 54 25 28 26 21 16 11 13  9  7  2  2  8  3  3  3  2  3  3]\n",
      "[83.03882757 65.93168814 52.34885448 41.56427118 33.00146023 26.20270598\n",
      " 20.80458852 16.51855743 13.11550764 10.41353286  8.26820201  6.56483879\n",
      "  5.2123918   4.13856747  3.28596571  2.60901162  2.07151938  1.64475793\n",
      "  1.30591519  1.03687872  0.82326746]\n",
      "Chi: 32.50115141156997\n"
     ]
    }
   ],
   "source": [
    "sample_mean = np.mean(inter_arrivals_cleaned)\n",
    "sample_std = np.std(inter_arrivals_cleaned, ddof=1)\n",
    "num_tags = 129\n",
    "\n",
    "def exponential_range(mean, left, right):\n",
    "    return (\n",
    "        (1-np.power(np.e, -mean*right)) - \n",
    "        (1-np.power(np.e, -mean*left))\n",
    "    )\n",
    "\n",
    "expected = np.zeros(num_bins)\n",
    "for i in range(num_bins):\n",
    "    expected[i] = (\n",
    "        inter_arrivals_cleaned.shape[0] * \n",
    "        exponential_range(1/sample_mean, bins[i], bins[i+1])\n",
    "    )\n",
    "\n",
    "print(sample_mean)\n",
    "print(hist)\n",
    "print(expected)\n",
    "\n",
    "# Calculate chi value\n",
    "chi = 0\n",
    "for i in range(num_bins):\n",
    "    chi += np.power((hist[i] - expected[i]), 2) / expected[i]\n",
    "    # print(\"adding\", np.power((hist[i] - expected[i]), 2) / expected[i])\n",
    "\n",
    "print(\"Chi:\", chi)\n"
   ]
  },
  {
   "cell_type": "code",
   "execution_count": null,
   "metadata": {},
   "outputs": [],
   "source": []
  }
 ],
 "metadata": {
  "kernelspec": {
   "display_name": "Python 3",
   "language": "python",
   "name": "python3"
  },
  "language_info": {
   "codemirror_mode": {
    "name": "ipython",
    "version": 3
   },
   "file_extension": ".py",
   "mimetype": "text/x-python",
   "name": "python",
   "nbconvert_exporter": "python",
   "pygments_lexer": "ipython3",
   "version": "3.10.0"
  },
  "vscode": {
   "interpreter": {
    "hash": "cf92aa13fedf815d5c8dd192b8d835913fde3e8bc926b2a0ad6cc74ef2ba3ca2"
   }
  }
 },
 "nbformat": 4,
 "nbformat_minor": 2
}
